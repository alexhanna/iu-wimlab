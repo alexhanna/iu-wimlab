{
 "metadata": {
  "name": "",
  "signature": "sha256:cfc37cf5dc0f7c93b6f48369abeba941dcccde39536a083443fcb1aeebfc954c"
 },
 "nbformat": 3,
 "nbformat_minor": 0,
 "worksheets": [
  {
   "cells": [
    {
     "cell_type": "heading",
     "level": 1,
     "metadata": {},
     "source": [
      "Introduction to Python for Social Scientists"
     ]
    },
    {
     "cell_type": "markdown",
     "metadata": {},
     "source": [
      "WIM workshop, 2014-09-26\n",
      "\n",
      "Alex Hanna, University of Wisconsin-Madison <br />\n",
      "[alex-hanna.com](http://alex-hanna.com) <br />\n",
      "[@alexhanna](http://twitter.com/alexhanna)"
     ]
    },
    {
     "cell_type": "markdown",
     "metadata": {},
     "source": [
      "## Intro\n",
      "\n",
      "Python is an all-purpose programming language which can be used for collecting, cleaning, manipulating, and analyzing data. With a vibrant development community, tasks which may have taken several different tools can be accomplished with this simple, intuitive language. \n",
      "\n",
      "## What we're doing today\n",
      "\n",
      "This workshop is an introduction to the basics of the Python programming language. The workshop will focus on the basics of the language, how to collect and analyze social data (with an emphasis on social media sites). We will introduce statistical data analysis with Python\u2019s scientific computing packages. \n",
      "\n",
      "We're not going to get to everything today, but hopefully this will give you enough of a start to get your bearings and learn more.\n",
      "\n",
      "## Setup\n",
      "\n",
      "We're going to use [IPython notebooks](http://ipython.org/notebook.html) as a way to jumpstart everyone so we spend more of our time coding and learning rather than setting up. IPython notebooks are a great way to group your code, documentation, and code output in one place. You can see that I also like to use it as a means of creating workshops.\n",
      "\n",
      "After this workshop is done, you can install your own instance of Python using the Continuum Analytics Anaconda distribution [https://store.continuum.io/cshop/anaconda/](https://store.continuum.io/cshop/anaconda/). Anaconda is a great distribution because it bundles together a lot of scientific computing tools, including SciPy, pandas, and IPython.\n",
      "\n",
      "The first thing you need to do is to enter the address I gave you at the beginning of the lab into your address bar. You'll probably get a message that says something like \"Do you really want to continue?\" Go ahead and click yes.\n",
      "\n",
      "If you're successful, you should be getting a screen which looks like this.\n",
      "\n",
      "![](login.png)\n",
      "\n",
      "The password for this notebook is <code>wimlab1234</code>. When you enter the notebook, you should get a listing of all the notebooks which have been created. Click \"New Notebook\" to create a new one.\n",
      "\n",
      "![](newnb.png)\n",
      "\n",
      "After that, the **VERY FIRST** thing you should do is change the name of your notebook by clicking on the text that says *Untitled0*. Rename the notebook to unique name, like your last name + \"-Lab\".\n",
      "\n",
      "![](untitled0.png)\n",
      "![](hanna-lab.png)\n",
      "\n",
      "Save by either using Ctrl + s on Windows, or Command + s on Mac, or by going to the menu bar and clicking File -> Save and Checkpoint. You should get a notification that your notebook has been saved and a checkpoint created."
     ]
    },
    {
     "cell_type": "markdown",
     "metadata": {},
     "source": [
      "## Hello world and basics\n",
      "\n",
      "Okay! Now that we've done that, we can get going. Like all programming languages, the first thing we'll do is \"Hello world!\" Python makes this astonishingly simple. Try entering the code below into your IPython window."
     ]
    },
    {
     "cell_type": "code",
     "collapsed": false,
     "input": [
      "print(\"Hello world\")"
     ],
     "language": "python",
     "metadata": {},
     "outputs": []
    },
    {
     "cell_type": "markdown",
     "metadata": {},
     "source": [
      "After you type this in, you can click Cell->Run to run the code. So your output should look something like this. Another shortcut to run code is to press Shift + Enter (you can see all keyboard shortcuts by pressing Ctrl+m, then h).\n",
      "\n",
      "![](hello-world.png)"
     ]
    },
    {
     "cell_type": "markdown",
     "metadata": {},
     "source": [
      "Let's break that down quickly. <code>print</code> is a *function* which takes one or more *arguments*, or something that goes between the parenthesis. <code>\"Hello world!\"</code> is a *string*, which is a particular data type in Python.\n",
      "\n",
      "Alternatively, we can assign our string \"Hello world!\" to a *variable* and use it in place of the string itself. Try running the following."
     ]
    },
    {
     "cell_type": "code",
     "collapsed": false,
     "input": [
      "hw = \"Hello world!\"\n",
      "print(hw)"
     ],
     "language": "python",
     "metadata": {},
     "outputs": [
      {
       "output_type": "stream",
       "stream": "stdout",
       "text": [
        "Hello world!\n"
       ]
      }
     ],
     "prompt_number": 1
    },
    {
     "cell_type": "markdown",
     "metadata": {},
     "source": [
      "### Text and strings\n",
      "\n",
      "A lot of the work we do in social sciences has to do with text, so understanding strings is important.\n",
      "\n",
      "There's three *functions* I want to cover when it comes to strings. The firstis <code>len</code> and the second is <code>find</code>.\n",
      "\n",
      "<code>len</code> gives us the length of a Python object. When we use it with a string, it gives us the length of the string."
     ]
    },
    {
     "cell_type": "code",
     "collapsed": false,
     "input": [
      "len(\"Hello world!\")"
     ],
     "language": "python",
     "metadata": {},
     "outputs": [
      {
       "metadata": {},
       "output_type": "pyout",
       "prompt_number": 4,
       "text": [
        "12"
       ]
      }
     ],
     "prompt_number": 4
    },
    {
     "cell_type": "markdown",
     "metadata": {},
     "source": [
      "So \"Hello world!\" has 12 characters in it. Easy enough.\n",
      "\n",
      "<code>find</code>, on the other hand, provides a way to find a substring in a larger string."
     ]
    },
    {
     "cell_type": "code",
     "collapsed": false,
     "input": [
      "hw.find(\"world\")"
     ],
     "language": "python",
     "metadata": {},
     "outputs": [
      {
       "metadata": {},
       "output_type": "pyout",
       "prompt_number": 24,
       "text": [
        "6"
       ]
      }
     ],
     "prompt_number": 24
    },
    {
     "cell_type": "markdown",
     "metadata": {},
     "source": [
      "Looking for the string \"world\" gave us the number 6. What do you think this number is?\n",
      "\n",
      "What if we give <code>find</code> a substring that isn't in <code>hw</code>? Try this code. What do you get?"
     ]
    },
    {
     "cell_type": "code",
     "collapsed": false,
     "input": [
      "hw.find(\"cats\")"
     ],
     "language": "python",
     "metadata": {},
     "outputs": []
    },
    {
     "cell_type": "markdown",
     "metadata": {},
     "source": [
      "Lastly, when we normalize text, one easy transformation is converting everything to lower case. For this, we use the function <code>lower</code>."
     ]
    },
    {
     "cell_type": "code",
     "collapsed": false,
     "input": [
      "my_name = \"Bobby Knight\"\n",
      "my_name.lower()"
     ],
     "language": "python",
     "metadata": {},
     "outputs": [
      {
       "metadata": {},
       "output_type": "pyout",
       "prompt_number": 63,
       "text": [
        "'bobby knight'"
       ]
      }
     ],
     "prompt_number": 63
    },
    {
     "cell_type": "markdown",
     "metadata": {},
     "source": [
      "### Math and numbers\n",
      "\n",
      "We can do basic math with Python. Try running the following."
     ]
    },
    {
     "cell_type": "code",
     "collapsed": false,
     "input": [
      "1 + 2"
     ],
     "language": "python",
     "metadata": {},
     "outputs": []
    },
    {
     "cell_type": "markdown",
     "metadata": {},
     "source": [
      "This is basic integer math. If we add a decimal point to either of the numbers we can turn our result into a floating point number."
     ]
    },
    {
     "cell_type": "code",
     "collapsed": false,
     "input": [
      "1. + 2"
     ],
     "language": "python",
     "metadata": {},
     "outputs": [
      {
       "metadata": {},
       "output_type": "pyout",
       "prompt_number": 9,
       "text": [
        "3.0"
       ]
      }
     ],
     "prompt_number": 9
    },
    {
     "cell_type": "markdown",
     "metadata": {},
     "source": [
      "And, like with strings, we can assign numbers to variables."
     ]
    },
    {
     "cell_type": "code",
     "collapsed": false,
     "input": [
      "num = 10 + 1\n",
      "print(num)"
     ],
     "language": "python",
     "metadata": {},
     "outputs": [
      {
       "output_type": "stream",
       "stream": "stdout",
       "text": [
        "11\n"
       ]
      }
     ],
     "prompt_number": 2
    },
    {
     "cell_type": "markdown",
     "metadata": {},
     "source": [
      "What happens when you do this, however?"
     ]
    },
    {
     "cell_type": "code",
     "collapsed": false,
     "input": [
      "strnum = \"hello\" + 1"
     ],
     "language": "python",
     "metadata": {},
     "outputs": []
    },
    {
     "cell_type": "markdown",
     "metadata": {},
     "source": [
      "Do the following. Assign the phrase \"This is not a string.\" to a variable named <code>pipe</code>. Calculate its length. Then check for the location of the word 'string'."
     ]
    },
    {
     "cell_type": "code",
     "collapsed": false,
     "input": [
      "pipe = \"This is not a string\"\n",
      "len(pipe)\n",
      "pipe.find(\"string\")"
     ],
     "language": "python",
     "metadata": {},
     "outputs": []
    },
    {
     "cell_type": "markdown",
     "metadata": {},
     "source": [
      "### Data structures\n",
      "\n",
      "Python has a number of different data structures for holding items of interest. Of these, I want to talk about the two most important ones: lists and dictionaries.\n",
      "\n",
      "A list, also called an array, is just an ordered sequence of things. We can define these in Python like so."
     ]
    },
    {
     "cell_type": "code",
     "collapsed": false,
     "input": [
      "my_li = [1, 2, 3, 4]\n",
      "print(my_li)"
     ],
     "language": "python",
     "metadata": {},
     "outputs": [
      {
       "output_type": "stream",
       "stream": "stdout",
       "text": [
        "[1, 2, 3, 4]\n"
       ]
      }
     ],
     "prompt_number": 26
    },
    {
     "cell_type": "markdown",
     "metadata": {},
     "source": [
      "We also need a way to look up entries in a list. Lists in Python use integer-based indexing, which just means you give it a number to look up where an item is.\n",
      "\n",
      "Like many programming language, Python uses 0-based indexing. Lists start at 0."
     ]
    },
    {
     "cell_type": "code",
     "collapsed": false,
     "input": [
      "print(my_li[0])\n",
      "print(my_li[2])"
     ],
     "language": "python",
     "metadata": {},
     "outputs": [
      {
       "output_type": "stream",
       "stream": "stdout",
       "text": [
        "1\n",
        "3\n"
       ]
      }
     ],
     "prompt_number": 18
    },
    {
     "cell_type": "markdown",
     "metadata": {},
     "source": [
      "Finally, we can grab pieces of lists by using the slice notation."
     ]
    },
    {
     "cell_type": "code",
     "collapsed": false,
     "input": [
      "print(my_li[0:2])"
     ],
     "language": "python",
     "metadata": {},
     "outputs": [
      {
       "output_type": "stream",
       "stream": "stdout",
       "text": [
        "[1, 2]\n"
       ]
      }
     ],
     "prompt_number": 66
    },
    {
     "cell_type": "markdown",
     "metadata": {},
     "source": [
      "*Dictionaries* are like lists, but instead of being indexed by numbers, they are indexed by keys, and they are unordered. Dictionaries \u2014 called hash tables in some languages like Java and associative arrays in PHP \u2014 are useful for indexing *values* by particular *keys*. Let\u2019s look at a basic dictionary."
     ]
    },
    {
     "cell_type": "code",
     "collapsed": false,
     "input": [
      "my_di = {'albert': 'einstein', 'alan': 'turing', 'grace': 'hopper'}"
     ],
     "language": "python",
     "metadata": {},
     "outputs": [],
     "prompt_number": 67
    },
    {
     "cell_type": "markdown",
     "metadata": {},
     "source": [
      "The first string is the first name, and the second string is the surname. In other words, the first name is the key. If we want to get a surname, we use the key to access it."
     ]
    },
    {
     "cell_type": "code",
     "collapsed": false,
     "input": [
      "print(my_di['grace'])"
     ],
     "language": "python",
     "metadata": {},
     "outputs": [
      {
       "output_type": "stream",
       "stream": "stdout",
       "text": [
        "hopper\n"
       ]
      }
     ],
     "prompt_number": 28
    },
    {
     "cell_type": "markdown",
     "metadata": {},
     "source": [
      "One more thing: remember our friend <code>len</code>? We can also use it to check how big our lists and dictionaries are. Try this on your own. I won't provide the code here."
     ]
    },
    {
     "cell_type": "markdown",
     "metadata": {},
     "source": [
      "### Loops\n",
      "\n",
      "Loops are a way of looking through each item in a list or dictionary. Specifically, Python's <code>for</code> loop, when used with a list, automatically knows we want to go through every item in the list."
     ]
    },
    {
     "cell_type": "code",
     "collapsed": false,
     "input": [
      "for i in my_li:\n",
      "    print(i)"
     ],
     "language": "python",
     "metadata": {},
     "outputs": [
      {
       "output_type": "stream",
       "stream": "stdout",
       "text": [
        "1\n",
        "2\n",
        "3\n",
        "4\n"
       ]
      }
     ],
     "prompt_number": 29
    },
    {
     "cell_type": "markdown",
     "metadata": {},
     "source": [
      "What if we want to go through every item of a dictionary? We can do one of two things. We can use the function <code>keys</code> to get all the keys of the list, or we can use the function <code>iteritems</code> to get both the key and and the value."
     ]
    },
    {
     "cell_type": "code",
     "collapsed": false,
     "input": [
      "for k in my_di.keys():\n",
      "    print(k, my_di[k])"
     ],
     "language": "python",
     "metadata": {},
     "outputs": [
      {
       "output_type": "stream",
       "stream": "stdout",
       "text": [
        "('albert', 'einstein')\n",
        "('grace', 'hopper')\n",
        "('alan', 'turing')\n"
       ]
      }
     ],
     "prompt_number": 31
    },
    {
     "cell_type": "code",
     "collapsed": false,
     "input": [
      "for k,v in my_di.iteritems():\n",
      "    print(k,v)"
     ],
     "language": "python",
     "metadata": {},
     "outputs": [
      {
       "output_type": "stream",
       "stream": "stdout",
       "text": [
        "('albert', 'einstein')\n",
        "('grace', 'hopper')\n",
        "('alan', 'turing')\n"
       ]
      }
     ],
     "prompt_number": 32
    },
    {
     "cell_type": "markdown",
     "metadata": {},
     "source": [
      "### Modules\n",
      "\n",
      "Python allows you to import external libraries (or *modules*) that do things we may be interested in.\n",
      "\n",
      "The syntax for importing these is simple."
     ]
    },
    {
     "cell_type": "code",
     "collapsed": false,
     "input": [
      "import sys"
     ],
     "language": "python",
     "metadata": {},
     "outputs": [],
     "prompt_number": 26
    },
    {
     "cell_type": "markdown",
     "metadata": {},
     "source": [
      "This imports the *sys* module, which contains useful functions for accessing the file system.\n",
      "\n",
      "We're going to import a few modules which will be useful for the next sections:\n",
      "\n",
      "1. <code>json</code> - **J**ava**S**cript **O**bject **N**otation, which is a type of data-interchange format, like Excel or CSV files. The Twitter API provides tweets in this format.\n",
      "2. <code>numpy</code> - Part of the SciPy package, this provides a set of functions for constructing and manipulating N-dimensional Python arrays.\n",
      "3. <code>pandas</code> - Python Data Analysis Library, also part of the SciPy package. Not only is the name of this module adorable, but it gives us a way to think of our data more like a spreadsheet rather than a set of arrays. If you've used R, it replicates a lot of the functionality we get from data frames and vectorization.\n"
     ]
    },
    {
     "cell_type": "code",
     "collapsed": false,
     "input": [
      "import json\n",
      "import numpy\n",
      "import pandas"
     ],
     "language": "python",
     "metadata": {},
     "outputs": [],
     "prompt_number": 7
    },
    {
     "cell_type": "markdown",
     "metadata": {},
     "source": [
      "### Analyzing social data\n",
      "\n",
      "There are many places in which we can grab social data. The basic interface which many social media sites provide are called APIs, which stand for Application Programming Interfaces. These are hooks in which we can use automated methods to access sites for particular data.\n",
      "\n",
      "Since we're focusing on social media sites, usually folks think of Twitter and Facebook. Both of them have APIs, although Twitter's is more open than Facebook's. You can find both of them here:\n",
      "\n",
      "[Facebook API](https://developers.facebook.com/)\n",
      "\n",
      "[Twitter API](https://dev.twitter.com/)\n",
      "\n",
      "There's often a lot of overhead in using these APIs, though. Deen Freelon, a professor of communications at American University, has crowdsourced a list of methods of collecting social media data here: [Social media collection tools](https://docs.google.com/document/d/1UaERzROI986HqcwrBDLaqGG8X_lYwctj6ek6ryqDOiQ/edit)"
     ]
    },
    {
     "cell_type": "markdown",
     "metadata": {},
     "source": [
      "For now, we're going to work with a file I've provided as a basis of analysis. This is some Twitter data from November 5, 2012, the day before the 2012 US fall election.\n",
      "\n",
      "To read this data, we're going to use the JSON module which we imported just a second ago.\n",
      "\n",
      "Twitter data comes in JSON natively. JSON looks kind of like this."
     ]
    },
    {
     "cell_type": "code",
     "collapsed": false,
     "input": [
      "jString = '{ \"key1\": 16, \"key2\": 1, \"key3\": 28 }'"
     ],
     "language": "python",
     "metadata": {},
     "outputs": [],
     "prompt_number": 14
    },
    {
     "cell_type": "markdown",
     "metadata": {},
     "source": [
      "We can load that JSON string by using the function <code>loads</code>."
     ]
    },
    {
     "cell_type": "code",
     "collapsed": false,
     "input": [
      "jObj = json.loads(jString)\n",
      "jObj"
     ],
     "language": "python",
     "metadata": {},
     "outputs": [
      {
       "metadata": {},
       "output_type": "pyout",
       "prompt_number": 16,
       "text": [
        "{u'key1': 16, u'key2': 1, u'key3': 28}"
       ]
      }
     ],
     "prompt_number": 16
    },
    {
     "cell_type": "markdown",
     "metadata": {},
     "source": [
      "This gives us a dictionary of values which are contained within the JSON object.\n",
      "\n",
      "Now we want to get that with Twitter data. We will load a file with one tweet it in, turn it into a string, and parse it as JSON."
     ]
    },
    {
     "cell_type": "code",
     "collapsed": false,
     "input": [
      "jsonFile = open('test.json', 'r') ## opens the file\n",
      "jsonStr  = jsonFile.read()        ## reads the file into a string\n",
      "jsonObj  = json.loads(jsonStr)    ## parses the file as JSON"
     ],
     "language": "python",
     "metadata": {},
     "outputs": [],
     "prompt_number": 19
    },
    {
     "cell_type": "markdown",
     "metadata": {},
     "source": [
      "Now, try typing just <code>jsonObj</code> on its own line. What do you get? What information does each field provide?\n",
      "\n",
      "This what a tweet looks like when you get it from Twitter. You can a lot of information from a single tweet. Twitter has a handy field guide which explains each field in full: [Twitter Field Guide](https://dev.twitter.com/overview/api/tweets).\n",
      "\n",
      "We're going to cheat a little. I'm going to give you a list of tweets which are separated in a tab-separated file. This is some data from the third US presidential debate in 2012, taken from the Twitter gardenhose, which is a 10% sample of Twitter. \n",
      "\n",
      "Once we load this file, we're going to do something a little weird. We're going to put the whole file into a data structure which is a dictionary filled with arrays.\n",
      "\n",
      "Don't worry if you don't understand every part of this."
     ]
    },
    {
     "cell_type": "code",
     "collapsed": false,
     "input": [
      "## opens the file\n",
      "debateFile = open('debate3-sample.csv', 'r')\n",
      "\n",
      "## defines a dictionary for the tweets\n",
      "## this is where we will store all the tweets\n",
      "tweets = {}\n",
      "\n",
      "## gives the fields some names\n",
      "fields = [\"id_str\", \"created_at\", \"text\", \"user-id_str\", \"user-name\", \"user-screen_name\", \n",
      "        \"rt-id_str\", \"rt-created_at\", \"rt-text\", \"rt-user-id_str\", \"rt-user-name\", \"rt-user-screen_name\"]\n",
      "\n",
      "## assigns an array for each field\n",
      "for field in fields:\n",
      "    tweets[field] = []\n",
      "\n",
      "## for each line in the field\n",
      "for line in debateFile:\n",
      "    ## split the string by tabs\n",
      "    row = map(lambda x: x if x != '\\N' else None, line.split(\"\\t\"))\n",
      "    \n",
      "    ## for each field, add the file entry to the correct array\n",
      "    for field in fields:\n",
      "        tweets[field].append( row[fields.index(field)] )"
     ],
     "language": "python",
     "metadata": {},
     "outputs": [],
     "prompt_number": 35
    },
    {
     "cell_type": "markdown",
     "metadata": {},
     "source": [
      "You may notice that our <code>fields</code> list has one set of fields which are for the original tweet, and the second set concerns retweets. If the tweet is a retweet, then those fields are populated. If they aren't, they receive a special value in Python, called <code>None</code>, which signifies a null or missing data.\n",
      "\n",
      "Now, let's get some basic statistics on this dataset. We can go about finding how many tweets are in this dataset by using <code>len</code> again."
     ]
    },
    {
     "cell_type": "code",
     "collapsed": false,
     "input": [
      "len(tweets['text'])"
     ],
     "language": "python",
     "metadata": {},
     "outputs": [
      {
       "metadata": {},
       "output_type": "pyout",
       "prompt_number": 41,
       "text": [
        "69875"
       ]
      }
     ],
     "prompt_number": 41
    },
    {
     "cell_type": "markdown",
     "metadata": {},
     "source": [
      "Similarly, we can find the number of retweets in this dataset by checking how many tweets in the retweet list are NOT marked with the <code>None</code> value. We use the keyword <code>not</code> to imply negation in Pythn."
     ]
    },
    {
     "cell_type": "code",
     "collapsed": false,
     "input": [
      "rt_count = 0  # a counter variable\n",
      "for rt in tweets['rt-text']:\n",
      "    if rt is not None:\n",
      "        rt_count = rt_count + 1 # add one to our counter\n",
      "print(rt_count)"
     ],
     "language": "python",
     "metadata": {},
     "outputs": [
      {
       "output_type": "stream",
       "stream": "stdout",
       "text": [
        "36816\n"
       ]
      }
     ],
     "prompt_number": 42
    },
    {
     "cell_type": "markdown",
     "metadata": {},
     "source": [
      "We added something here. We added a conditional statement, namely <code>if</code>. <code>if</code> takes some statement and checks if it evaluates to true or not."
     ]
    },
    {
     "cell_type": "code",
     "collapsed": false,
     "input": [
      "if 1 == 1:\n",
      "    print(\"This is true.\")"
     ],
     "language": "python",
     "metadata": {},
     "outputs": [
      {
       "output_type": "stream",
       "stream": "stdout",
       "text": [
        "This is true.\n"
       ]
      }
     ],
     "prompt_number": 43
    },
    {
     "cell_type": "markdown",
     "metadata": {},
     "source": [
      "In the case above, we checked if our value was not equal to <code>None</code>. But we can also take a shortcut here -- any non-<code>None</code> variable will evaluate to being \"true\" in a logical statement."
     ]
    },
    {
     "cell_type": "code",
     "collapsed": false,
     "input": [
      "if \"hi\":\n",
      "    print(\"This is also true.\")"
     ],
     "language": "python",
     "metadata": {},
     "outputs": [
      {
       "output_type": "stream",
       "stream": "stdout",
       "text": [
        "This is also true.\n"
       ]
      }
     ],
     "prompt_number": 44
    },
    {
     "cell_type": "markdown",
     "metadata": {},
     "source": [
      "If we were able to check for the number of retweets, we should be able to check whether a particular string exists in one of our tweets.\n",
      "\n",
      "Do the following: count how many tweets contain 'obama', then check for how many tweets contain 'romney'."
     ]
    },
    {
     "cell_type": "markdown",
     "metadata": {},
     "source": [
      "### Scientific computing\n",
      "\n",
      "The very last bit I want to cover today is scientific computing, and I will do so in the briefest of detail. I mostly want to show how you can import and work with data in <code>pandas</code>.\n",
      "\n",
      "Let's take our data set from last time. Luckily, with <code>pandas</code>, we don't have to create a complex data structure to store our dataset. We can use the function <code>read_csv</code> to create a <code>DataFrame</code> object."
     ]
    },
    {
     "cell_type": "code",
     "collapsed": false,
     "input": [
      "df = pandas.read_csv('debate3-sample.csv', sep = \"\\t\", names = fields, na_values = \"\\N\")\n",
      "df.info()"
     ],
     "language": "python",
     "metadata": {},
     "outputs": [
      {
       "output_type": "stream",
       "stream": "stdout",
       "text": [
        "<class 'pandas.core.frame.DataFrame'>\n",
        "Int64Index: 69795 entries, 0 to 69794\n",
        "Data columns (total 12 columns):\n",
        "id_str                 69795 non-null int64\n",
        "created_at             69795 non-null object\n",
        "text                   69795 non-null object\n",
        "user-id_str            69795 non-null int64\n",
        "user-name              69791 non-null object\n",
        "user-screen_name       69795 non-null object\n",
        "rt-id_str              36795 non-null float64\n",
        "rt-created_at          36795 non-null object\n",
        "rt-text                36795 non-null object\n",
        "rt-user-id_str         36795 non-null float64\n",
        "rt-user-name           36794 non-null object\n",
        "rt-user-screen_name    36795 non-null object\n",
        "dtypes: float64(2), int64(2), object(8)"
       ]
      }
     ],
     "prompt_number": 49
    },
    {
     "cell_type": "markdown",
     "metadata": {},
     "source": [
      "Where <code>pandas</code> can really shine is when we want to subset our data. Say we only want to consider tweets which contain the word \"liberal.\""
     ]
    },
    {
     "cell_type": "code",
     "collapsed": false,
     "input": [
      "df_lib = df[df['text'].str.contains(\"liberal\")]\n",
      "df_lib.info()"
     ],
     "language": "python",
     "metadata": {},
     "outputs": [
      {
       "output_type": "stream",
       "stream": "stdout",
       "text": [
        "<class 'pandas.core.frame.DataFrame'>\n",
        "Int64Index: 85 entries, 839 to 68156\n",
        "Data columns (total 12 columns):\n",
        "id_str                 85 non-null int64\n",
        "created_at             85 non-null object\n",
        "text                   85 non-null object\n",
        "user-id_str            85 non-null int64\n",
        "user-name              85 non-null object\n",
        "user-screen_name       85 non-null object\n",
        "rt-id_str              48 non-null float64\n",
        "rt-created_at          48 non-null object\n",
        "rt-text                48 non-null object\n",
        "rt-user-id_str         48 non-null float64\n",
        "rt-user-name           48 non-null object\n",
        "rt-user-screen_name    48 non-null object\n",
        "dtypes: float64(2), int64(2), object(8)"
       ]
      }
     ],
     "prompt_number": 58
    },
    {
     "cell_type": "markdown",
     "metadata": {},
     "source": [
      "We've subsetted our large list of nearly 70,000 tweets to 85. We can see in what context folks are using this word briefly, using the <code>head</code> function on the <code>text</code> column, and <code>values</code> to get the whole tweet (otherwise it gets truncated)."
     ]
    },
    {
     "cell_type": "code",
     "collapsed": false,
     "input": [
      "df_lib['text'].head().values"
     ],
     "language": "python",
     "metadata": {},
     "outputs": [
      {
       "metadata": {},
       "output_type": "pyout",
       "prompt_number": 62,
       "text": [
        "array([ 'RT @parkermorris11: I hate how these liberal moderators try to help out Obama as much as possible',\n",
        "       'RT @NickKristof: In talking abt education &amp; gender equality as tool to support Middle East, Romney sounds like a liberal NYT columnist.',\n",
        "       \"Sometimes I'm like yay #Obama! Then he's all: imperialism-neoliberalism blah blah blah. #debate #feminism\",\n",
        "       'Stop blamin Bush you fuckin liberals!!!!! Obama has created more of a mess than Bush did.',\n",
        "       '@Lawdivas: The liberal media must have watched a different debate than I did. Romney clearly won this one, while Obama fumed. There you go'], dtype=object)"
       ]
      }
     ],
     "prompt_number": 62
    },
    {
     "cell_type": "markdown",
     "metadata": {},
     "source": [
      "So it looks like 'liberal' is used in a more negative context, at least in these first few tweets."
     ]
    },
    {
     "cell_type": "markdown",
     "metadata": {},
     "source": [
      "* * *\n",
      "\n",
      "### Further reading\n",
      "\n",
      "There are oodles of resources on Python. It's a well-documented language with a lot of code examples. \n",
      "\n",
      "Some places to start include:\n",
      "- [Python 2.7 documentation](https://docs.python.org/2.7/) -- Pythond documentation. Note, we used Python 2.7 for this tutorial, but you can also try Python 3. There are some minor differences in its language definition -- [Python 3](https://docs.python.org/3.4/).\n",
      "- [CodeAcademy](http://www.codecademy.com/en/tracks/python) -- Code Academy has a good beginner course in Python.\n",
      "\n",
      "Once you start getting comfortable in the main language, you can start working more fluently with **scientific computing packages**.\n",
      "- [NumPy](http://docs.scipy.org/doc/numpy/reference/) -- NumPy provides access to n-dimension arrays, which is useful for data manipulation. \n",
      "- [pandas](http://pandas.pydata.org/) -- pandas gives us \"data frame\"-type abilities in Python, making the language more similar to how statistical packages treat data objects.\n",
      "\n",
      "**Plotting** - We didn't get to plotting today because plotting a bit of a higher learning curve. But you can check out the following:\n",
      "- [matplotlib](http://matplotlib.org/) -- the standard for Python plotting\n",
      "- [seaborn](http://web.stanford.edu/~mwaskom/software/seaborn/) -- a newer library with a lower learning curve\n",
      "- [plotly](https://plot.ly/) -- plot.ly is a cross-platform plotting app with hooks into many statistical languages\n",
      "\n",
      "**Text and machine learning** - These packages are oriented towards textual analysis of text. These are key packages for doing so.\n",
      "- [nltk](http://www.nltk.org/) -- The Natural Language Toolkit. A lot of different tools for analyzing text.\n",
      "- [scikit-learn](http://scikit-learn.org/stable/) -- scikit-learn, general purpose machine learning tools, including feature extraction and selection, text vectorizers, and many different supervised and unsupervised classifiers."
     ]
    }
   ],
   "metadata": {}
  }
 ]
}